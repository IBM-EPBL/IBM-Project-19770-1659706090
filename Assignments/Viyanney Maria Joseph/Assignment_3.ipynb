{
  "nbformat": 4,
  "nbformat_minor": 0,
  "metadata": {
    "colab": {
      "provenance": [],
      "collapsed_sections": []
    },
    "kernelspec": {
      "name": "python3",
      "display_name": "Python 3"
    },
    "language_info": {
      "name": "python"
    }
  },
  "cells": [
    {
      "cell_type": "code",
      "execution_count": 42,
      "metadata": {
        "id": "H0an3XQb8N1J",
        "colab": {
          "base_uri": "https://localhost:8080/"
        },
        "outputId": "48d857d0-9991-4763-cab9-b55a3f76e61c"
      },
      "outputs": [
        {
          "output_type": "stream",
          "name": "stdout",
          "text": [
            "Assignment_3.ipynb  \u001b[0m\u001b[01;34mdataset\u001b[0m/  flower.h5  \u001b[01;34mflowers\u001b[0m/  Flowers-Dataset.zip\n"
          ]
        }
      ],
      "source": [
        "ls"
      ]
    },
    {
      "cell_type": "code",
      "source": [
        "cd /content/drive/MyDrive/CNN"
      ],
      "metadata": {
        "id": "vcUrFCo7-FRW"
      },
      "execution_count": null,
      "outputs": []
    },
    {
      "cell_type": "code",
      "source": [
        "ls"
      ],
      "metadata": {
        "id": "RoWWUPZj-MAf",
        "colab": {
          "base_uri": "https://localhost:8080/"
        },
        "outputId": "eb81d167-9dce-4140-f482-78b17799c75f"
      },
      "execution_count": 44,
      "outputs": [
        {
          "output_type": "stream",
          "name": "stdout",
          "text": [
            "Assignment_3.ipynb  \u001b[0m\u001b[01;34mdataset\u001b[0m/  flower.h5  \u001b[01;34mflowers\u001b[0m/  Flowers-Dataset.zip\n"
          ]
        }
      ]
    },
    {
      "cell_type": "code",
      "source": [
        "pwd"
      ],
      "metadata": {
        "id": "-BSpA7tg-SVB"
      },
      "execution_count": null,
      "outputs": []
    },
    {
      "cell_type": "code",
      "source": [
        "!unzip Flowers-Dataset.zip"
      ],
      "metadata": {
        "id": "pjM17bRO_BVc"
      },
      "execution_count": null,
      "outputs": []
    },
    {
      "cell_type": "code",
      "source": [
        "from tensorflow.keras.preprocessing.image import ImageDataGenerator"
      ],
      "metadata": {
        "id": "8Mjp7YeGABfH"
      },
      "execution_count": 64,
      "outputs": []
    },
    {
      "cell_type": "code",
      "source": [
        "train_datagen=ImageDataGenerator(rescale=1./255,horizontal_flip=True,vertical_flip=True,zoom_range=0.2)"
      ],
      "metadata": {
        "id": "4UeXxTfpAzrS"
      },
      "execution_count": 65,
      "outputs": []
    },
    {
      "cell_type": "code",
      "source": [
        "test_datagen= ImageDataGenerator(rescale=1./255)"
      ],
      "metadata": {
        "id": "8UeYroh-B8hd"
      },
      "execution_count": 66,
      "outputs": []
    },
    {
      "cell_type": "code",
      "source": [
        "x_train = train_datagen.flow_from_directory(r\"/content/drive/MyDrive/CNN/dataset/training\", target_size=(64,64), class_mode=\"categorical\", batch_size=24)"
      ],
      "metadata": {
        "colab": {
          "base_uri": "https://localhost:8080/"
        },
        "id": "bb67ySRaCuZp",
        "outputId": "1b3b99cd-09f5-40a8-af66-39fbce2e474c"
      },
      "execution_count": 67,
      "outputs": [
        {
          "output_type": "stream",
          "name": "stdout",
          "text": [
            "Found 4327 images belonging to 5 classes.\n"
          ]
        }
      ]
    },
    {
      "cell_type": "code",
      "source": [
        "x_test = test_datagen.flow_from_directory(r\"/content/drive/MyDrive/CNN/dataset/testing\", target_size=(64,64), class_mode=\"categorical\", batch_size=24)"
      ],
      "metadata": {
        "colab": {
          "base_uri": "https://localhost:8080/"
        },
        "outputId": "db04e6bd-962f-4bc6-a2aa-9fe43254f2bf",
        "id": "pU1xjL27m41Q"
      },
      "execution_count": 68,
      "outputs": [
        {
          "output_type": "stream",
          "name": "stdout",
          "text": [
            "Found 621 images belonging to 5 classes.\n"
          ]
        }
      ]
    },
    {
      "cell_type": "markdown",
      "source": [
        "Model Building"
      ],
      "metadata": {
        "id": "5YU5reZHrqJf"
      }
    },
    {
      "cell_type": "code",
      "source": [
        "from tensorflow.keras.models import Sequential\n",
        "from tensorflow.keras.layers import Convolution2D,MaxPooling2D,Flatten,Dense"
      ],
      "metadata": {
        "id": "x1oW3eC-ruqI"
      },
      "execution_count": null,
      "outputs": []
    },
    {
      "cell_type": "code",
      "source": [
        "model = Sequential()"
      ],
      "metadata": {
        "id": "E5YGWDQBtMbY"
      },
      "execution_count": null,
      "outputs": []
    },
    {
      "cell_type": "code",
      "source": [
        "model.add(Convolution2D(32,(3,3),activation = \"relu\", input_shape = (64,64,3)))"
      ],
      "metadata": {
        "id": "qgvUoFNayLdp"
      },
      "execution_count": null,
      "outputs": []
    },
    {
      "cell_type": "code",
      "source": [
        "model.add(MaxPooling2D(pool_size=(2,2)))"
      ],
      "metadata": {
        "id": "fHz_M-PiyqVH"
      },
      "execution_count": null,
      "outputs": []
    },
    {
      "cell_type": "code",
      "source": [
        "model.add(Flatten())"
      ],
      "metadata": {
        "id": "1xDrlZzgy9Bg"
      },
      "execution_count": null,
      "outputs": []
    },
    {
      "cell_type": "code",
      "source": [
        "model.add(Dense(300, activation=\"relu\"))"
      ],
      "metadata": {
        "id": "fkaJpm0VzFCp"
      },
      "execution_count": null,
      "outputs": []
    },
    {
      "cell_type": "code",
      "source": [
        "model.add(Dense(300, activation=\"relu\"))"
      ],
      "metadata": {
        "id": "so8hPGpHzfJ0"
      },
      "execution_count": null,
      "outputs": []
    },
    {
      "cell_type": "code",
      "source": [
        "model.add(Dense(5, activation=\"softmax\"))"
      ],
      "metadata": {
        "id": "wpW4MIDozmv_"
      },
      "execution_count": null,
      "outputs": []
    },
    {
      "cell_type": "code",
      "source": [
        "model.compile(loss=\"categorical_crossentropy\", metrics=[\"accuracy\"], optimizer=\"adam\")"
      ],
      "metadata": {
        "id": "rXcr6Pvqz29R"
      },
      "execution_count": null,
      "outputs": []
    },
    {
      "cell_type": "code",
      "source": [
        "len(x_train)"
      ],
      "metadata": {
        "colab": {
          "base_uri": "https://localhost:8080/"
        },
        "id": "_Ujd-QxK0bZE",
        "outputId": "d36db241-05da-4909-e485-4bf80d7bb68f"
      },
      "execution_count": null,
      "outputs": [
        {
          "output_type": "execute_result",
          "data": {
            "text/plain": [
              "181"
            ]
          },
          "metadata": {},
          "execution_count": 40
        }
      ]
    },
    {
      "cell_type": "code",
      "source": [
        "model.fit(x_train, epochs = 5, validation_data=x_test, steps_per_epoch=len(x_train), validation_steps=len(x_test))"
      ],
      "metadata": {
        "colab": {
          "base_uri": "https://localhost:8080/"
        },
        "id": "Wf7uy98i0zR6",
        "outputId": "64bd9c70-d174-47dd-ab3b-2536d9c49637"
      },
      "execution_count": 43,
      "outputs": [
        {
          "output_type": "stream",
          "name": "stdout",
          "text": [
            "Epoch 1/5\n",
            "181/181 [==============================] - 748s 4s/step - loss: 1.1247 - accuracy: 0.5429 - val_loss: 0.9137 - val_accuracy: 0.6473\n",
            "Epoch 2/5\n",
            "181/181 [==============================] - 45s 249ms/step - loss: 0.9867 - accuracy: 0.6120 - val_loss: 0.8481 - val_accuracy: 0.6876\n",
            "Epoch 3/5\n",
            "181/181 [==============================] - 45s 247ms/step - loss: 0.9282 - accuracy: 0.6388 - val_loss: 1.0233 - val_accuracy: 0.5845\n",
            "Epoch 4/5\n",
            "181/181 [==============================] - 46s 251ms/step - loss: 0.8909 - accuracy: 0.6550 - val_loss: 0.7821 - val_accuracy: 0.6908\n",
            "Epoch 5/5\n",
            "181/181 [==============================] - 46s 252ms/step - loss: 0.8472 - accuracy: 0.6718 - val_loss: 0.7169 - val_accuracy: 0.7456\n"
          ]
        },
        {
          "output_type": "execute_result",
          "data": {
            "text/plain": [
              "<keras.callbacks.History at 0x7f9a240a5850>"
            ]
          },
          "metadata": {},
          "execution_count": 43
        }
      ]
    },
    {
      "cell_type": "code",
      "source": [
        "model.save(\"flower.h5\")"
      ],
      "metadata": {
        "id": "z6yQhMBN-44g"
      },
      "execution_count": 45,
      "outputs": []
    },
    {
      "cell_type": "markdown",
      "source": [
        "Testing the Model"
      ],
      "metadata": {
        "id": "1YEfl58jcrly"
      }
    },
    {
      "cell_type": "code",
      "source": [
        "from tensorflow.keras.models import load_model\n",
        "from tensorflow.keras.preprocessing import image\n",
        "import numpy as np\n"
      ],
      "metadata": {
        "id": "BETD39BbcuM9"
      },
      "execution_count": 46,
      "outputs": []
    },
    {
      "cell_type": "code",
      "source": [
        "model = load_model(\"/content/drive/MyDrive/CNN/flower.h5\")"
      ],
      "metadata": {
        "id": "Kkjp75zVdqkp"
      },
      "execution_count": 47,
      "outputs": []
    },
    {
      "cell_type": "code",
      "source": [
        "img = image.load_img(\"/content/drive/MyDrive/CNN/dataset/training/rose/11233672494_d8bf0a3dbf_n.jpg\",target_size=(64,64))"
      ],
      "metadata": {
        "id": "v93MbQpRe79n"
      },
      "execution_count": 48,
      "outputs": []
    },
    {
      "cell_type": "code",
      "source": [
        "img"
      ],
      "metadata": {
        "id": "NUIpdYfKfLdk",
        "colab": {
          "base_uri": "https://localhost:8080/",
          "height": 81
        },
        "outputId": "9261d37e-b277-41c0-b4d7-528b7e635c0d"
      },
      "execution_count": 49,
      "outputs": [
        {
          "output_type": "execute_result",
          "data": {
            "text/plain": [
              "<PIL.Image.Image image mode=RGB size=64x64 at 0x7F9A240A5810>"
            ],
            "image/png": "[encoded data removed]"
          },
          "metadata": {},
          "execution_count": 49
        }
      ]
    },
    {
      "cell_type": "code",
      "source": [
        "x=image.img_to_array(img)"
      ],
      "metadata": {
        "id": "cTlYsoXGfOoV"
      },
      "execution_count": 51,
      "outputs": []
    },
    {
      "cell_type": "code",
      "source": [
        "x"
      ],
      "metadata": {
        "id": "HsUycg6PfcBi",
        "colab": {
          "base_uri": "https://localhost:8080/"
        },
        "outputId": "8a0888da-759e-4f3b-9606-d22c60e52a76"
      },
      "execution_count": 52,
      "outputs": [
        {
          "output_type": "execute_result",
          "data": {
            "text/plain": [
              "array([[[  0.,   0.,   0.],\n",
              "        [  0.,   0.,   0.],\n",
              "        [  0.,   0.,   0.],\n",
              "        ...,\n",
              "        [  0.,   0.,   0.],\n",
              "        [  0.,   0.,   0.],\n",
              "        [  0.,   0.,   0.]],\n",
              "\n",
              "       [[  0.,   0.,   0.],\n",
              "        [  0.,   0.,   0.],\n",
              "        [  0.,   0.,   0.],\n",
              "        ...,\n",
              "        [  0.,   0.,   0.],\n",
              "        [  0.,   0.,   0.],\n",
              "        [  0.,   0.,   0.]],\n",
              "\n",
              "       [[  0.,   0.,   0.],\n",
              "        [  0.,   0.,   0.],\n",
              "        [  0.,   0.,   0.],\n",
              "        ...,\n",
              "        [  0.,   0.,   0.],\n",
              "        [  0.,   0.,   0.],\n",
              "        [  0.,   0.,   0.]],\n",
              "\n",
              "       ...,\n",
              "\n",
              "       [[  2.,   1.,   6.],\n",
              "        [ 83.,  83.,  81.],\n",
              "        [ 92.,  92.,  92.],\n",
              "        ...,\n",
              "        [  0.,   0.,   0.],\n",
              "        [  0.,   0.,   0.],\n",
              "        [  0.,   0.,   0.]],\n",
              "\n",
              "       [[ 39.,  39.,  41.],\n",
              "        [ 82.,  82.,  84.],\n",
              "        [196., 196., 196.],\n",
              "        ...,\n",
              "        [  0.,   0.,   0.],\n",
              "        [  0.,   0.,   0.],\n",
              "        [  0.,   0.,   0.]],\n",
              "\n",
              "       [[ 10.,   9.,  15.],\n",
              "        [  4.,   4.,   4.],\n",
              "        [  4.,   4.,   4.],\n",
              "        ...,\n",
              "        [  0.,   0.,   0.],\n",
              "        [  0.,   0.,   0.],\n",
              "        [  0.,   0.,   0.]]], dtype=float32)"
            ]
          },
          "metadata": {},
          "execution_count": 52
        }
      ]
    },
    {
      "cell_type": "code",
      "source": [
        "x.ndim"
      ],
      "metadata": {
        "id": "-TKeEyMhfrrW",
        "colab": {
          "base_uri": "https://localhost:8080/"
        },
        "outputId": "2db977eb-eda3-42ec-90d8-c1431c838703"
      },
      "execution_count": 53,
      "outputs": [
        {
          "output_type": "execute_result",
          "data": {
            "text/plain": [
              "3"
            ]
          },
          "metadata": {},
          "execution_count": 53
        }
      ]
    },
    {
      "cell_type": "code",
      "source": [
        "x = np.expand_dims(x, axis = 0)"
      ],
      "metadata": {
        "id": "ilstCzyOgL8-"
      },
      "execution_count": 54,
      "outputs": []
    },
    {
      "cell_type": "code",
      "source": [
        "x.ndim"
      ],
      "metadata": {
        "id": "9q5U2uWlgYPJ",
        "colab": {
          "base_uri": "https://localhost:8080/"
        },
        "outputId": "4b3252d6-1bb2-4d06-cc19-df6c19634c2e"
      },
      "execution_count": 55,
      "outputs": [
        {
          "output_type": "execute_result",
          "data": {
            "text/plain": [
              "4"
            ]
          },
          "metadata": {},
          "execution_count": 55
        }
      ]
    },
    {
      "cell_type": "code",
      "source": [
        "pred = model.predict(x)"
      ],
      "metadata": {
        "id": "F0YZfTQ-gfcu"
      },
      "execution_count": 56,
      "outputs": []
    },
    {
      "cell_type": "code",
      "source": [
        "pred"
      ],
      "metadata": {
        "id": "GdROFu19gkUO",
        "colab": {
          "base_uri": "https://localhost:8080/"
        },
        "outputId": "ad737130-7621-4f2f-b42f-b72cd2f7cfe0"
      },
      "execution_count": 57,
      "outputs": [
        {
          "output_type": "execute_result",
          "data": {
            "text/plain": [
              "array([[0., 0., 1., 0., 0.]], dtype=float32)"
            ]
          },
          "metadata": {},
          "execution_count": 57
        }
      ]
    },
    {
      "cell_type": "code",
      "source": [
        "labels = [\"daisy\",\"dandelion\",\"rose\",\"sunflower\",\"tulip\"]"
      ],
      "metadata": {
        "id": "ihVw-OEfg9x1"
      },
      "execution_count": 61,
      "outputs": []
    },
    {
      "cell_type": "code",
      "source": [
        "np.argmax(pred)"
      ],
      "metadata": {
        "id": "0qQaXTw8ht6t",
        "colab": {
          "base_uri": "https://localhost:8080/"
        },
        "outputId": "f12c0778-9180-404b-c5d2-10044364915f"
      },
      "execution_count": 62,
      "outputs": [
        {
          "output_type": "execute_result",
          "data": {
            "text/plain": [
              "2"
            ]
          },
          "metadata": {},
          "execution_count": 62
        }
      ]
    },
    {
      "cell_type": "code",
      "source": [
        "labels[np.argmax(pred)]"
      ],
      "metadata": {
        "id": "UB_nohD3iNhV",
        "colab": {
          "base_uri": "https://localhost:8080/",
          "height": 35
        },
        "outputId": "8c587a3a-c609-44c3-95dc-259d4f778fd5"
      },
      "execution_count": 63,
      "outputs": [
        {
          "output_type": "execute_result",
          "data": {
            "text/plain": [
              "'rose'"
            ],
            "application/vnd.google.colaboratory.intrinsic+json": {
              "type": "string"
            }
          },
          "metadata": {},
          "execution_count": 63
        }
      ]
    }
  ]
}
