{
 "cells": [
  {
   "cell_type": "code",
   "execution_count": 7,
   "id": "0630bd9e",
   "metadata": {},
   "outputs": [],
   "source": [
    "import pandas as pd\n",
    "import numpy as np\n",
    "import matplotlib.pyplot as plt\n",
    "%matplotlib inline\n",
    "import seaborn as sns\n",
    "\n",
    "from nltk import word_tokenize\n",
    "\n",
    "from sklearn.model_selection import train_test_split\n",
    "from sklearn.preprocessing import LabelEncoder\n",
    "from sklearn.metrics import auc, roc_auc_score, roc_curve, confusion_matrix, classification_report\n",
    "\n",
    "from keras.models import Model, load_model\n",
    "from keras.layers import LSTM, Activation, Dense, Dropout, Input, Embedding\n",
    "from keras.optimizers import RMSprop\n",
    "from keras.preprocessing.text import Tokenizer\n",
    "from keras_preprocessing.sequence import pad_sequences\n",
    "from keras.utils import to_categorical, plot_model\n",
    "from keras.callbacks import EarlyStopping, ModelCheckpoint, TensorBoard"
   ]
  },
  {
   "cell_type": "code",
   "execution_count": 10,
   "id": "877d8d49",
   "metadata": {},
   "outputs": [
    {
     "data": {
      "text/html": [
       "<div>\n",
       "<style scoped>\n",
       "    .dataframe tbody tr th:only-of-type {\n",
       "        vertical-align: middle;\n",
       "    }\n",
       "\n",
       "    .dataframe tbody tr th {\n",
       "        vertical-align: top;\n",
       "    }\n",
       "\n",
       "    .dataframe thead th {\n",
       "        text-align: right;\n",
       "    }\n",
       "</style>\n",
       "<table border=\"1\" class=\"dataframe\">\n",
       "  <thead>\n",
       "    <tr style=\"text-align: right;\">\n",
       "      <th></th>\n",
       "      <th>v1</th>\n",
       "      <th>v2</th>\n",
       "      <th>Unnamed: 2</th>\n",
       "      <th>Unnamed: 3</th>\n",
       "      <th>Unnamed: 4</th>\n",
       "    </tr>\n",
       "  </thead>\n",
       "  <tbody>\n",
       "    <tr>\n",
       "      <th>0</th>\n",
       "      <td>ham</td>\n",
       "      <td>Go until jurong point, crazy.. Available only ...</td>\n",
       "      <td>NaN</td>\n",
       "      <td>NaN</td>\n",
       "      <td>NaN</td>\n",
       "    </tr>\n",
       "    <tr>\n",
       "      <th>1</th>\n",
       "      <td>ham</td>\n",
       "      <td>Ok lar... Joking wif u oni...</td>\n",
       "      <td>NaN</td>\n",
       "      <td>NaN</td>\n",
       "      <td>NaN</td>\n",
       "    </tr>\n",
       "    <tr>\n",
       "      <th>2</th>\n",
       "      <td>spam</td>\n",
       "      <td>Free entry in 2 a wkly comp to win FA Cup fina...</td>\n",
       "      <td>NaN</td>\n",
       "      <td>NaN</td>\n",
       "      <td>NaN</td>\n",
       "    </tr>\n",
       "    <tr>\n",
       "      <th>3</th>\n",
       "      <td>ham</td>\n",
       "      <td>U dun say so early hor... U c already then say...</td>\n",
       "      <td>NaN</td>\n",
       "      <td>NaN</td>\n",
       "      <td>NaN</td>\n",
       "    </tr>\n",
       "    <tr>\n",
       "      <th>4</th>\n",
       "      <td>ham</td>\n",
       "      <td>Nah I don't think he goes to usf, he lives aro...</td>\n",
       "      <td>NaN</td>\n",
       "      <td>NaN</td>\n",
       "      <td>NaN</td>\n",
       "    </tr>\n",
       "  </tbody>\n",
       "</table>\n",
       "</div>"
      ],
      "text/plain": [
       "     v1                                                 v2 Unnamed: 2  \\\n",
       "0   ham  Go until jurong point, crazy.. Available only ...        NaN   \n",
       "1   ham                      Ok lar... Joking wif u oni...        NaN   \n",
       "2  spam  Free entry in 2 a wkly comp to win FA Cup fina...        NaN   \n",
       "3   ham  U dun say so early hor... U c already then say...        NaN   \n",
       "4   ham  Nah I don't think he goes to usf, he lives aro...        NaN   \n",
       "\n",
       "  Unnamed: 3 Unnamed: 4  \n",
       "0        NaN        NaN  \n",
       "1        NaN        NaN  \n",
       "2        NaN        NaN  \n",
       "3        NaN        NaN  \n",
       "4        NaN        NaN  "
      ]
     },
     "execution_count": 10,
     "metadata": {},
     "output_type": "execute_result"
    }
   ],
   "source": [
    "df = pd.read_csv(\"spam.csv\", encoding='latin-1')\n",
    "df.head()"
   ]
  },
  {
   "cell_type": "code",
   "execution_count": 11,
   "id": "16382dfe",
   "metadata": {},
   "outputs": [
    {
     "name": "stdout",
     "output_type": "stream",
     "text": [
      "<class 'pandas.core.frame.DataFrame'>\n",
      "RangeIndex: 5572 entries, 0 to 5571\n",
      "Data columns (total 5 columns):\n",
      " #   Column      Non-Null Count  Dtype \n",
      "---  ------      --------------  ----- \n",
      " 0   v1          5572 non-null   object\n",
      " 1   v2          5572 non-null   object\n",
      " 2   Unnamed: 2  50 non-null     object\n",
      " 3   Unnamed: 3  12 non-null     object\n",
      " 4   Unnamed: 4  6 non-null      object\n",
      "dtypes: object(5)\n",
      "memory usage: 217.8+ KB\n"
     ]
    }
   ],
   "source": [
    "df.info()\n"
   ]
  },
  {
   "cell_type": "code",
   "execution_count": 12,
   "id": "3553b87c",
   "metadata": {},
   "outputs": [
    {
     "name": "stderr",
     "output_type": "stream",
     "text": [
      "C:\\Users\\Rithik\\anaconda3\\lib\\site-packages\\seaborn\\_decorators.py:36: FutureWarning: Pass the following variable as a keyword arg: x. From version 0.12, the only valid positional argument will be `data`, and passing other arguments without an explicit keyword will result in an error or misinterpretation.\n",
      "  warnings.warn(\n"
     ]
    },
    {
     "data": {
      "text/plain": [
       "Text(0.5, 1.0, 'Number of ham and spam messages')"
      ]
     },
     "execution_count": 12,
     "metadata": {},
     "output_type": "execute_result"
    },
    {
     "data": {
      "image/png": "[encoded data removed]",
      "text/plain": [
       "<Figure size 432x288 with 1 Axes>"
      ]
     },
     "metadata": {
      "needs_background": "light"
     },
     "output_type": "display_data"
    }
   ],
   "source": [
    "fig, ax = plt.subplots()\n",
    "sns.countplot(df.v1, ax=ax)\n",
    "ax.set_xlabel('Label')\n",
    "ax.set_title('Number of ham and spam messages')"
   ]
  },
  {
   "cell_type": "code",
   "execution_count": 13,
   "id": "cf826912",
   "metadata": {},
   "outputs": [],
   "source": [
    "X = df.loc[:, 'v2']\n",
    "y = df.loc[:, 'v1']"
   ]
  },
  {
   "cell_type": "code",
   "execution_count": 14,
   "id": "cb6c743c",
   "metadata": {},
   "outputs": [
    {
     "data": {
      "text/plain": [
       "0       Go until jurong point, crazy.. Available only ...\n",
       "1                           Ok lar... Joking wif u oni...\n",
       "2       Free entry in 2 a wkly comp to win FA Cup fina...\n",
       "3       U dun say so early hor... U c already then say...\n",
       "4       Nah I don't think he goes to usf, he lives aro...\n",
       "                              ...                        \n",
       "5567    This is the 2nd time we have tried 2 contact u...\n",
       "5568                Will Ì_ b going to esplanade fr home?\n",
       "5569    Pity, * was in mood for that. So...any other s...\n",
       "5570    The guy did some bitching but I acted like i'd...\n",
       "5571                           Rofl. Its true to its name\n",
       "Name: v2, Length: 5572, dtype: object"
      ]
     },
     "execution_count": 14,
     "metadata": {},
     "output_type": "execute_result"
    }
   ],
   "source": [
    "X"
   ]
  },
  {
   "cell_type": "code",
   "execution_count": 15,
   "id": "0188924c",
   "metadata": {},
   "outputs": [
    {
     "name": "stdout",
     "output_type": "stream",
     "text": [
      "(4457,)\n",
      "(1115,)\n"
     ]
    }
   ],
   "source": [
    "X_train_data, X_test_data, y_train_labels, y_test_labels = train_test_split(X, y, test_size=0.2, random_state=42)\n",
    "print(X_train_data.shape)\n",
    "print(X_test_data.shape)"
   ]
  },
  {
   "cell_type": "code",
   "execution_count": 16,
   "id": "d7a0eb86",
   "metadata": {},
   "outputs": [
    {
     "name": "stdout",
     "output_type": "stream",
     "text": [
      "220\n"
     ]
    }
   ],
   "source": [
    "sent_lens = []\n",
    "for sent in X_train_data:\n",
    "    sent_lens.append(len(word_tokenize(sent)))\n",
    "    \n",
    "print(max(sent_lens))"
   ]
  },
  {
   "cell_type": "code",
   "execution_count": 17,
   "id": "7a776936",
   "metadata": {},
   "outputs": [
    {
     "name": "stderr",
     "output_type": "stream",
     "text": [
      "C:\\Users\\Rithik\\anaconda3\\lib\\site-packages\\seaborn\\distributions.py:2619: FutureWarning: `distplot` is a deprecated function and will be removed in a future version. Please adapt your code to use either `displot` (a figure-level function with similar flexibility) or `histplot` (an axes-level function for histograms).\n",
      "  warnings.warn(msg, FutureWarning)\n"
     ]
    },
    {
     "data": {
      "text/plain": [
       "<AxesSubplot:ylabel='Density'>"
      ]
     },
     "execution_count": 17,
     "metadata": {},
     "output_type": "execute_result"
    },
    {
     "data": {
      "image/png": "[encoded data removed]",
      "text/plain": [
       "<Figure size 432x288 with 1 Axes>"
      ]
     },
     "metadata": {
      "needs_background": "light"
     },
     "output_type": "display_data"
    }
   ],
   "source": [
    "sns.distplot(sent_lens, bins=10, kde=True)"
   ]
  },
  {
   "cell_type": "code",
   "execution_count": 18,
   "id": "f7b6a996",
   "metadata": {},
   "outputs": [
    {
     "data": {
      "text/plain": [
       "39.0"
      ]
     },
     "execution_count": 18,
     "metadata": {},
     "output_type": "execute_result"
    }
   ],
   "source": [
    "np.quantile(sent_lens, 0.95)"
   ]
  },
  {
   "cell_type": "code",
   "execution_count": 19,
   "id": "66a54370",
   "metadata": {},
   "outputs": [
    {
     "name": "stdout",
     "output_type": "stream",
     "text": [
      "No. of unique tokens(vocab_size):  7954\n",
      "No of sequences: 4457\n",
      "[[38, 30, 8, 5, 273, 1989, 81, 116, 26, 11, 1656, 322, 10, 53, 18, 299, 30, 349, 1990], [799, 15, 2555, 1442, 1127, 192, 2556, 171, 12, 98, 1991, 44, 195, 1657, 2557, 1992, 2558, 21, 9, 4, 203, 1025, 225]]\n"
     ]
    },
    {
     "data": {
      "text/plain": [
       "array([[   0,    0,    0,    0,    0,    0,    0,    0,    0,    0,    0,\n",
       "           0,    0,    0,    0,    0,    0,    0,    0,   38,   30,    8,\n",
       "           5,  273, 1989,   81,  116,   26,   11, 1656,  322,   10,   53,\n",
       "          18,  299,   30,  349, 1990],\n",
       "       [   0,    0,    0,    0,    0,    0,    0,    0,    0,    0,    0,\n",
       "           0,    0,    0,    0,  799,   15, 2555, 1442, 1127,  192, 2556,\n",
       "         171,   12,   98, 1991,   44,  195, 1657, 2557, 1992, 2558,   21,\n",
       "           9,    4,  203, 1025,  225]])"
      ]
     },
     "execution_count": 19,
     "metadata": {},
     "output_type": "execute_result"
    }
   ],
   "source": [
    "max_sequence_length = 38\n",
    "\n",
    "tok = Tokenizer()\n",
    "tok.fit_on_texts(X_train_data.values)\n",
    "\n",
    "vocab_length = len(tok.word_index) \n",
    "print('No. of unique tokens(vocab_size): ', vocab_length)\n",
    "\n",
    "X_train_sequences = tok.texts_to_sequences(X_train_data.values)\n",
    "X_test_sequences = tok.texts_to_sequences(X_test_data.values)\n",
    "print('No of sequences:', len(X_train_sequences))\n",
    "print(X_train_sequences[:2])\n",
    "\n",
    "\n",
    "X_train = pad_sequences(X_train_sequences, maxlen=max_sequence_length)\n",
    "X_test = pad_sequences(X_test_sequences, maxlen=max_sequence_length)\n",
    "X_train[:2]"
   ]
  },
  {
   "cell_type": "code",
   "execution_count": 20,
   "id": "da578fca",
   "metadata": {},
   "outputs": [
    {
     "data": {
      "text/plain": [
       "array(['ham', 'spam', 'ham', ..., 'ham', 'ham', 'ham'], dtype=object)"
      ]
     },
     "execution_count": 20,
     "metadata": {},
     "output_type": "execute_result"
    }
   ],
   "source": [
    "y_train_labels.values"
   ]
  },
  {
   "cell_type": "code",
   "execution_count": 21,
   "id": "878769f8",
   "metadata": {},
   "outputs": [
    {
     "name": "stdout",
     "output_type": "stream",
     "text": [
      "[0 1 0 ... 0 0 0]\n"
     ]
    }
   ],
   "source": [
    "le = LabelEncoder()\n",
    "y_train = le.fit_transform(y_train_labels)\n",
    "y_test = le.fit_transform(y_test_labels)\n",
    "print(y_train)"
   ]
  },
  {
   "cell_type": "markdown",
   "id": "1fb5609e",
   "metadata": {},
   "source": [
    "Model Creation"
   ]
  },
  {
   "cell_type": "code",
   "execution_count": 22,
   "id": "6215ae63",
   "metadata": {},
   "outputs": [
    {
     "name": "stdout",
     "output_type": "stream",
     "text": [
      "Model: \"model\"\n",
      "_________________________________________________________________\n",
      " Layer (type)                Output Shape              Param #   \n",
      "=================================================================\n",
      " inputs (InputLayer)         [(None, 38)]              0         \n",
      "                                                                 \n",
      " embedding (Embedding)       (None, 38, 50)            397750    \n",
      "                                                                 \n",
      " lstm (LSTM)                 (None, 64)                29440     \n",
      "                                                                 \n",
      " FC1 (Dense)                 (None, 256)               16640     \n",
      "                                                                 \n",
      " activation (Activation)     (None, 256)               0         \n",
      "                                                                 \n",
      " dropout (Dropout)           (None, 256)               0         \n",
      "                                                                 \n",
      " out_layer (Dense)           (None, 1)                 257       \n",
      "                                                                 \n",
      " activation_1 (Activation)   (None, 1)                 0         \n",
      "                                                                 \n",
      "=================================================================\n",
      "Total params: 444,087\n",
      "Trainable params: 444,087\n",
      "Non-trainable params: 0\n",
      "_________________________________________________________________\n"
     ]
    }
   ],
   "source": [
    "def create_model(vocab_len, max_seq_len):\n",
    "    inputs = Input(name='inputs', shape=[max_seq_len])   #None, 150\n",
    "    layer = Embedding(vocab_length + 1, 50, input_length=max_seq_len)(inputs) #None, 150, 50\n",
    "    layer = LSTM(64)(layer)  #None, 64\n",
    "    layer = Dense(256,name='FC1')(layer) #None, 256\n",
    "    layer = Activation('relu')(layer) #None, 256\n",
    "    layer = Dropout(0.5)(layer) #None, 256\n",
    "    layer = Dense(1,name='out_layer')(layer) #None, 1\n",
    "    layer = Activation('sigmoid')(layer) #None, 1\n",
    "    model = Model(inputs=inputs,outputs=layer)\n",
    "    model.compile(loss='binary_crossentropy',optimizer=RMSprop(), metrics=['acc'])\n",
    "    return model\n",
    "\n",
    "model = create_model(vocab_length, max_sequence_length)\n",
    "model.summary()"
   ]
  },
  {
   "cell_type": "markdown",
   "id": "df58787c",
   "metadata": {},
   "source": [
    "Training the Model"
   ]
  },
  {
   "cell_type": "code",
   "execution_count": 26,
   "id": "193e5cf9",
   "metadata": {},
   "outputs": [],
   "source": [
    "filepath='spam_model.h5'\n",
    "callbacks = [EarlyStopping(monitor='val_loss', patience=5, verbose=1),  \n",
    "             ModelCheckpoint(filepath=filepath, monitor='val_loss', save_best_only=True, verbose=1)]\n"
   ]
  },
  {
   "cell_type": "code",
   "execution_count": 27,
   "id": "1b86e4c4",
   "metadata": {},
   "outputs": [
    {
     "name": "stdout",
     "output_type": "stream",
     "text": [
      "Epoch 1/20\n",
      "28/28 [==============================] - ETA: 0s - loss: 0.3246 - acc: 0.8662\n",
      "Epoch 1: val_loss improved from inf to 0.17221, saving model to spam_model.h5\n",
      "28/28 [==============================] - 5s 65ms/step - loss: 0.3246 - acc: 0.8662 - val_loss: 0.1722 - val_acc: 0.9664\n",
      "Epoch 2/20\n",
      "28/28 [==============================] - ETA: 0s - loss: 0.0844 - acc: 0.9806\n",
      "Epoch 2: val_loss improved from 0.17221 to 0.05161, saving model to spam_model.h5\n",
      "28/28 [==============================] - 1s 34ms/step - loss: 0.0844 - acc: 0.9806 - val_loss: 0.0516 - val_acc: 0.9832\n",
      "Epoch 3/20\n",
      "27/28 [===========================>..] - ETA: 0s - loss: 0.0316 - acc: 0.9913\n",
      "Epoch 3: val_loss improved from 0.05161 to 0.04024, saving model to spam_model.h5\n",
      "28/28 [==============================] - 1s 36ms/step - loss: 0.0314 - acc: 0.9913 - val_loss: 0.0402 - val_acc: 0.9865\n",
      "Epoch 4/20\n",
      "28/28 [==============================] - ETA: 0s - loss: 0.0181 - acc: 0.9941\n",
      "Epoch 4: val_loss did not improve from 0.04024\n",
      "28/28 [==============================] - 1s 32ms/step - loss: 0.0181 - acc: 0.9941 - val_loss: 0.0471 - val_acc: 0.9854\n",
      "Epoch 5/20\n",
      "28/28 [==============================] - ETA: 0s - loss: 0.0097 - acc: 0.9975\n",
      "Epoch 5: val_loss did not improve from 0.04024\n",
      "28/28 [==============================] - 1s 33ms/step - loss: 0.0097 - acc: 0.9975 - val_loss: 0.0462 - val_acc: 0.9854\n",
      "Epoch 6/20\n",
      "27/28 [===========================>..] - ETA: 0s - loss: 0.0067 - acc: 0.9980\n",
      "Epoch 6: val_loss did not improve from 0.04024\n",
      "28/28 [==============================] - 1s 33ms/step - loss: 0.0065 - acc: 0.9980 - val_loss: 0.0531 - val_acc: 0.9865\n",
      "Epoch 7/20\n",
      "27/28 [===========================>..] - ETA: 0s - loss: 0.0023 - acc: 0.9997\n",
      "Epoch 7: val_loss did not improve from 0.04024\n",
      "28/28 [==============================] - 1s 32ms/step - loss: 0.0022 - acc: 0.9997 - val_loss: 0.0717 - val_acc: 0.9865\n",
      "Epoch 8/20\n",
      "27/28 [===========================>..] - ETA: 0s - loss: 2.1995e-04 - acc: 1.0000\n",
      "Epoch 8: val_loss did not improve from 0.04024\n",
      "28/28 [==============================] - 1s 32ms/step - loss: 2.1853e-04 - acc: 1.0000 - val_loss: 0.0951 - val_acc: 0.9843\n",
      "Epoch 8: early stopping\n"
     ]
    }
   ],
   "source": [
    "history = model.fit(X_train, y_train, batch_size=128, epochs=20, validation_split=0.2, callbacks=callbacks)"
   ]
  },
  {
   "cell_type": "code",
   "execution_count": 29,
   "id": "86492b69",
   "metadata": {},
   "outputs": [
    {
     "name": "stdout",
     "output_type": "stream",
     "text": [
      "dict_keys(['loss', 'acc', 'val_loss', 'val_acc'])\n"
     ]
    },
    {
     "data": {
      "image/png": "[encoded data removed]",
      "text/plain": [
       "<Figure size 432x288 with 1 Axes>"
      ]
     },
     "metadata": {
      "needs_background": "light"
     },
     "output_type": "display_data"
    }
   ],
   "source": [
    "history_dict = history.history\n",
    "\n",
    "# list all data in history\n",
    "print(history_dict.keys())\n",
    "\n",
    "# summarize history for loss\n",
    "plt.plot(history_dict['loss'])\n",
    "plt.plot(history_dict['val_loss'])\n",
    "plt.title('Training and Validation Loss')\n",
    "plt.ylabel('loss')\n",
    "plt.xlabel('epoch')\n",
    "plt.legend(['train', 'test'], loc='upper left')\n",
    "plt.show()"
   ]
  },
  {
   "cell_type": "code",
   "execution_count": 30,
   "id": "9fcfee6a",
   "metadata": {},
   "outputs": [
    {
     "data": {
      "image/png": "[encoded data removed]",
      "text/plain": [
       "<Figure size 432x288 with 1 Axes>"
      ]
     },
     "metadata": {
      "needs_background": "light"
     },
     "output_type": "display_data"
    }
   ],
   "source": [
    "# summarize history for accuracy\n",
    "plt.plot(history_dict['acc'])\n",
    "plt.plot(history_dict['val_acc'])\n",
    "plt.title('Training and Validation Accuracy')\n",
    "plt.ylabel('accuracy')\n",
    "plt.xlabel('epoch')\n",
    "plt.legend(['train', 'test'], loc='upper left')\n",
    "plt.show()\n"
   ]
  },
  {
   "cell_type": "code",
   "execution_count": 37,
   "id": "8df9e9c4",
   "metadata": {},
   "outputs": [
    {
     "name": "stdout",
     "output_type": "stream",
     "text": [
      "35/35 [==============================] - 1s 5ms/step - loss: 0.0608 - acc: 0.9812\n",
      "\n",
      "Test set:\n",
      "  Loss: 0.061\n",
      "  Accuracy: 0.981\n"
     ]
    }
   ],
   "source": [
    "loaded_model = load_model('spam_model.h5')\n",
    "test_loss, test_acc = accr = loaded_model.evaluate(X_test, y_test)\n",
    "print('\\nTest set:\\n  Loss: {:0.3f}\\n  Accuracy: {:0.3f}'.format(test_loss, test_acc))"
   ]
  },
  {
   "cell_type": "markdown",
   "id": "8fa05911",
   "metadata": {},
   "source": [
    "Model Testing\n"
   ]
  },
  {
   "cell_type": "code",
   "execution_count": 38,
   "id": "fe1e4412",
   "metadata": {},
   "outputs": [
    {
     "name": "stdout",
     "output_type": "stream",
     "text": [
      "35/35 [==============================] - 1s 5ms/step\n",
      "[[0.828]\n",
      " [0.004]\n",
      " [0.816]\n",
      " ...\n",
      " [0.001]\n",
      " [0.003]\n",
      " [0.934]]\n"
     ]
    },
    {
     "data": {
      "text/plain": [
       "array([[ True],\n",
       "       [False],\n",
       "       [ True],\n",
       "       ...,\n",
       "       [False],\n",
       "       [False],\n",
       "       [ True]])"
      ]
     },
     "execution_count": 38,
     "metadata": {},
     "output_type": "execute_result"
    }
   ],
   "source": [
    "y_pred_proba = loaded_model.predict(X_test)\n",
    "\n",
    "print(np.round(y_pred_proba, 3))\n",
    "y_pred = y_pred_proba > 0.5\n",
    "y_pred"
   ]
  },
  {
   "cell_type": "code",
   "execution_count": 39,
   "id": "4249aee5",
   "metadata": {},
   "outputs": [
    {
     "name": "stdout",
     "output_type": "stream",
     "text": [
      "[0, 0, 0, 0, 0, 0, 0, 0, 0, 0, 0, 0, 0, 0, 0, 0, 0, 0, 0, 0, 0, 1366, 1578, 1432, 19, 7893, 19, 19, 38, 118, 1650, 19, 738, 4, 449, 3023, 35, 1285] => 1 (expected 0)\n",
      "[1, 188, 11, 6440, 2, 7, 1, 135, 2, 28, 12, 4, 290, 7931, 1, 104, 33, 3, 22, 647, 15, 28, 4, 3607, 18, 374, 191, 224, 2137, 107, 433, 9, 74, 10, 5, 1097, 1806, 1171] => 0 (expected 0)\n",
      "[0, 0, 0, 0, 0, 0, 0, 0, 0, 0, 0, 0, 0, 0, 0, 0, 0, 0, 0, 0, 39, 54, 258, 144, 3, 54, 21, 3428, 3, 16, 2, 173, 53, 144, 761, 264, 7182, 208] => 1 (expected 1)\n",
      "[0, 0, 0, 0, 0, 0, 0, 0, 0, 0, 64, 33, 3, 1528, 13, 263, 53, 79, 228, 79, 3, 31, 7, 838, 69, 10, 8, 5, 168, 2, 205, 10, 54, 3, 499, 14, 8, 46] => 0 (expected 0)\n",
      "[0, 0, 0, 0, 0, 0, 0, 0, 0, 0, 0, 0, 0, 0, 715, 29, 357, 532, 622, 15, 1107, 528, 706, 49, 435, 19, 98, 563, 496, 292, 71, 521, 2, 906, 1546, 138, 1200, 2216] => 1 (expected 1)\n"
     ]
    }
   ],
   "source": [
    "for i in range(5):\n",
    "    print('%s => %d (expected %d)' % (X_test[i].tolist(), y_pred[i], y_test[i]))"
   ]
  },
  {
   "cell_type": "code",
   "execution_count": 40,
   "id": "c79ead2e",
   "metadata": {},
   "outputs": [
    {
     "name": "stdout",
     "output_type": "stream",
     "text": [
      "[[962   3]\n",
      " [ 18 132]]\n"
     ]
    }
   ],
   "source": [
    "print(confusion_matrix(y_test, y_pred))\n"
   ]
  },
  {
   "cell_type": "code",
   "execution_count": 41,
   "id": "5bcb718e",
   "metadata": {},
   "outputs": [
    {
     "name": "stdout",
     "output_type": "stream",
     "text": [
      "              precision    recall  f1-score   support\n",
      "\n",
      "           0       0.98      1.00      0.99       965\n",
      "           1       0.98      0.88      0.93       150\n",
      "\n",
      "    accuracy                           0.98      1115\n",
      "   macro avg       0.98      0.94      0.96      1115\n",
      "weighted avg       0.98      0.98      0.98      1115\n",
      "\n"
     ]
    }
   ],
   "source": [
    "print(classification_report(y_test, y_pred))\n"
   ]
  },
  {
   "cell_type": "code",
   "execution_count": 42,
   "id": "acfd68ef",
   "metadata": {},
   "outputs": [
    {
     "name": "stdout",
     "output_type": "stream",
     "text": [
      "AUC: 0.986\n"
     ]
    }
   ],
   "source": [
    "auc = roc_auc_score(y_test, y_pred_proba)\n",
    "print('AUC: %.3f' % auc)"
   ]
  },
  {
   "cell_type": "code",
   "execution_count": 43,
   "id": "24d9a57c",
   "metadata": {},
   "outputs": [
    {
     "data": {
      "image/png": "[encoded data removed]",
      "text/plain": [
       "<Figure size 432x288 with 1 Axes>"
      ]
     },
     "metadata": {
      "needs_background": "light"
     },
     "output_type": "display_data"
    }
   ],
   "source": [
    "fpr_keras, tpr_keras, thresholds_keras = roc_curve(y_test, y_pred_proba)\n",
    "\n",
    "def plot_roc_curve(fpr,tpr): \n",
    "  import matplotlib.pyplot as plt\n",
    "  plt.plot(fpr,tpr) \n",
    "  plt.axis([0,1,0,1]) \n",
    "  plt.xlabel('False Positive Rate') \n",
    "  plt.ylabel('True Positive Rate') \n",
    "  plt.show()    \n",
    "  \n",
    "plot_roc_curve (fpr_keras, tpr_keras)"
   ]
  }
 ],
 "metadata": {
  "kernelspec": {
   "display_name": "Python 3 (ipykernel)",
   "language": "python",
   "name": "python3"
  },
  "language_info": {
   "codemirror_mode": {
    "name": "ipython",
    "version": 3
   },
   "file_extension": ".py",
   "mimetype": "text/x-python",
   "name": "python",
   "nbconvert_exporter": "python",
   "pygments_lexer": "ipython3",
   "version": "3.9.12"
  }
 },
 "nbformat": 4,
 "nbformat_minor": 5
}
